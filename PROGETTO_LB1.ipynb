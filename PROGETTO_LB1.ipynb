{
  "nbformat": 4,
  "nbformat_minor": 0,
  "metadata": {
    "colab": {
      "provenance": []
    },
    "kernelspec": {
      "name": "python3",
      "display_name": "Python 3"
    },
    "language_info": {
      "name": "python"
    }
  },
  "cells": [
    {
      "cell_type": "markdown",
      "source": [
        "#**PERFORMANCE LB1**"
      ],
      "metadata": {
        "id": "oiDa_XiFaIzN"
      }
    },
    {
      "cell_type": "code",
      "execution_count": 107,
      "metadata": {
        "id": "FxAsluuCaHk5"
      },
      "outputs": [],
      "source": [
        "import pandas as pd\n",
        "import numpy as np\n",
        "from sklearn.metrics import confusion_matrix, classification_report, matthews_corrcoef\n",
        "import seaborn as sns\n",
        "import matplotlib.pyplot as plt"
      ]
    },
    {
      "cell_type": "code",
      "source": [
        "from google.colab import files"
      ],
      "metadata": {
        "id": "QE8VBKAeedig"
      },
      "execution_count": 108,
      "outputs": []
    },
    {
      "cell_type": "markdown",
      "source": [
        "###FUNZIONI"
      ],
      "metadata": {
        "id": "FFBNx8-0cEDt"
      }
    },
    {
      "cell_type": "code",
      "source": [
        "def get_preds(x,th):\n",
        "  l_pred =[]\n",
        "  for value in x:\n",
        "    if value<=th:\n",
        "      l_pred.append(1)\n",
        "    else:\n",
        "      l_pred.append(0)\n",
        "  pred = np.array(l_pred)\n",
        "  return pred\n",
        "\n",
        "def print_cm(cm):\n",
        "  TN, FP, FN, TP = cm.ravel()\n",
        "  plt.figure(figsize=(3, 2))\n",
        "  sns.heatmap(cm, annot=True, cmap='Blues', fmt='g', cbar=False, annot_kws={\"size\": 7},\n",
        "              xticklabels=['Classe 0', 'Classe 1'], yticklabels=['Classe 0', 'Classe 1'])\n",
        "  plt.xlabel('Predetto')\n",
        "  plt.ylabel('Vero')\n",
        "  title = 'Confusion matrix with th='+str(th)\n",
        "  plt.title(title+'\\nTP={}, TN={}, FP={}, FN={}'.format(TP, TN, FP, FN))\n",
        "  plt.show()\n",
        "  return TN, FP, FN, TP\n",
        "\n",
        "  def print_ROC_curve(FPR_list, TPR_list):\n",
        "    plt.plot(FPR_list, TPR_list, linestyle='-', color='r', linewidth=3)\n",
        "    plt.plot([0, 1], [0, 1], linestyle='--', color='cyan')\n",
        "    max_TPR = max(TPR_list)\n",
        "    max_TPR_index = TPR_list.index(max_TPR)\n",
        "    plt.axhline(y=max_TPR, color='b', linestyle='--', label=f'Maximum TPR: {max_TPR:.2f}')\n",
        "    plt.xlabel('False Positive Rate')\n",
        "    plt.ylabel('True Positive Rate')\n",
        "    plt.title('ROC Curve')\n",
        "    plt.xlim([0, 1])\n",
        "    plt.ylim([0, 1.05])\n",
        "    plt.grid(True)\n",
        "    plt.legend()\n",
        "    plt.show()"
      ],
      "metadata": {
        "id": "Az0Ea4CscDoW"
      },
      "execution_count": 109,
      "outputs": []
    },
    {
      "cell_type": "markdown",
      "source": [
        "# **SEQUENCE ALIGNMENT**"
      ],
      "metadata": {
        "id": "7whAAliOyuNE"
      }
    },
    {
      "cell_type": "markdown",
      "source": [
        "### CARICAMENTO DELL'OPTIMIZATION SET E CREAZIONE DEL DATAFRAME"
      ],
      "metadata": {
        "id": "445sq4oRdgII"
      }
    },
    {
      "cell_type": "code",
      "source": [
        "#opt_set_seq = files.upload()\n",
        "#scegliere set_1_seq.txt"
      ],
      "metadata": {
        "id": "tnFp41y2gEpt"
      },
      "execution_count": 110,
      "outputs": []
    },
    {
      "cell_type": "code",
      "source": [
        "#for file_name, content in opt_set_seq.items():\n",
        "#  opt_df_seq = pd.read_csv('set_1_seq.txt', sep='\\t', header=None, names=['ID_proteina', 'E-value', 'Etichetta'])"
      ],
      "metadata": {
        "id": "hwZSDzCmgOC3"
      },
      "execution_count": 111,
      "outputs": []
    },
    {
      "cell_type": "code",
      "source": [
        "opt_df_seq = pd.read_csv('set_1_seq.txt', sep='\\t', header=None, names=['ID_proteina', 'E-value', 'Etichetta'])"
      ],
      "metadata": {
        "id": "K2JS9pDJbM6Q"
      },
      "execution_count": 112,
      "outputs": []
    },
    {
      "cell_type": "code",
      "source": [
        "opt_df_seq.shape"
      ],
      "metadata": {
        "colab": {
          "base_uri": "https://localhost:8080/"
        },
        "id": "or6ofkNhhf1W",
        "outputId": "bbf344a8-5a3b-4a9b-aca3-4290a120e564"
      },
      "execution_count": 113,
      "outputs": [
        {
          "output_type": "execute_result",
          "data": {
            "text/plain": [
              "(285624, 3)"
            ]
          },
          "metadata": {},
          "execution_count": 113
        }
      ]
    },
    {
      "cell_type": "markdown",
      "source": [
        "### CARICAMENTO DEL TEST SET E CREAZIONE DEL DATAFRAME"
      ],
      "metadata": {
        "id": "sm7cas1Idvrd"
      }
    },
    {
      "cell_type": "code",
      "source": [
        "#test_set_seq = files.upload()\n",
        "#scegliere set_2_seq.txt"
      ],
      "metadata": {
        "id": "f-5hZRq4Nfr7"
      },
      "execution_count": 114,
      "outputs": []
    },
    {
      "cell_type": "code",
      "source": [
        "#for file_name, content in test_set_seq.items():\n",
        "#  test_df_seq = pd.read_csv('set_2_seq.txt', sep='\\t', header=None, names=['ID_proteina', 'E-value', 'Etichetta'])"
      ],
      "metadata": {
        "id": "hGTujy1UdR2Z"
      },
      "execution_count": 115,
      "outputs": []
    },
    {
      "cell_type": "code",
      "source": [
        "test_df_seq = pd.read_csv('set_2_seq.txt', sep='\\t', header=None, names=['ID_proteina', 'E-value', 'Etichetta'])"
      ],
      "metadata": {
        "id": "UyDyvrqma5Hj"
      },
      "execution_count": 116,
      "outputs": []
    },
    {
      "cell_type": "code",
      "source": [
        "test_df_seq.shape"
      ],
      "metadata": {
        "colab": {
          "base_uri": "https://localhost:8080/"
        },
        "id": "6PQ17zRENcPX",
        "outputId": "643327df-e96f-4089-905c-b0f805f3f49a"
      },
      "execution_count": 117,
      "outputs": [
        {
          "output_type": "execute_result",
          "data": {
            "text/plain": [
              "(285625, 3)"
            ]
          },
          "metadata": {},
          "execution_count": 117
        }
      ]
    },
    {
      "cell_type": "markdown",
      "source": [
        "###CREAZIONE DELLA TABELLA RISULTATI"
      ],
      "metadata": {
        "id": "L84p9oAjSiwG"
      }
    },
    {
      "cell_type": "code",
      "source": [
        "cols = ['Threshold','Accuracy','Pos_f1_score','Neg_f1_score','MCC']\n",
        "seq_res_opt = pd.DataFrame(columns=cols)\n",
        "seq_res_test = pd.DataFrame(columns=cols)"
      ],
      "metadata": {
        "id": "w7tTt22HSl-i"
      },
      "execution_count": 118,
      "outputs": []
    },
    {
      "cell_type": "markdown",
      "source": [
        "### OTTENIMENTO DELLE **PREDICTION DALL'OPTIMIZATION SET** E STUDIO DELLE PERFORMANCE"
      ],
      "metadata": {
        "id": "ko4784gRd54u"
      }
    },
    {
      "cell_type": "code",
      "source": [
        "X_opt_seq = opt_df_seq['E-value'].to_numpy()\n",
        "y_opt_seq = opt_df_seq['Etichetta'].to_numpy()"
      ],
      "metadata": {
        "id": "QJTHyt7neALm"
      },
      "execution_count": 119,
      "outputs": []
    },
    {
      "cell_type": "code",
      "source": [
        "seqopt_TPR_list = []\n",
        "seqopt_FPR_list = []\n",
        "\n",
        "for th in [0.1, 0.01, 0.001, 0.0001, 0.00001, 0.0000001, 0.00000001, 0.000000001, 0.0000000001, 0.00000000001, 0.000000000001, 0.0000000000001, 0.00000000000001, 0.000000000000001, 0.0000000000000001]:\n",
        "  y_pred1_seq = get_preds(X_opt_seq,th)\n",
        "  cm = confusion_matrix(y_opt_seq,y_pred1_seq)\n",
        "  #print_cm(cm)\n",
        "  report = classification_report(y_opt_seq, y_pred1_seq, output_dict=True)\n",
        "  ac, pos_f1, neg_f1, mcc = report['accuracy'], report['1']['f1-score'], report['0']['f1-score'], matthews_corrcoef(y_opt_seq, y_pred1_seq)\n",
        "  #print('THRESHOLD=%s\\nAccuracy=%s\\nPositive F1=%s\\nNegative F1=%s\\nMCC=%s\\n'%(th,ac,pos_f1,neg_f1,mcc))\n",
        "  new_res = [th, ac, pos_f1, neg_f1, mcc]\n",
        "  seq_res_opt.loc[len(seq_res_opt)] = new_res\n",
        "  seqopt_TPR_current = TP / (TP + FN)\n",
        "  seqopt_FPR_current = FP / (FP + TN)\n",
        "  seqopt_TPR_list.append(seqopt_TPR_current)\n",
        "  seqopt_FPR_list.append(seqopt_FPR_current)\n"
      ],
      "metadata": {
        "id": "lOmA-HOxgumM"
      },
      "execution_count": 154,
      "outputs": []
    },
    {
      "cell_type": "code",
      "source": [
        "print(seq_res_opt)\n",
        "#seq_res_df.to_excel('Risultati.xlsx',index=False)"
      ],
      "metadata": {
        "colab": {
          "base_uri": "https://localhost:8080/"
        },
        "id": "7vKhbS-5UsNf",
        "outputId": "ccd4dfd7-6e4b-459b-b431-7ad516bc95fb"
      },
      "execution_count": 155,
      "outputs": [
        {
          "output_type": "stream",
          "name": "stdout",
          "text": [
            "       Threshold  Accuracy  Pos_f1_score  Neg_f1_score       MCC\n",
            "0   1.000000e-04  0.999905      0.929870      0.999953  0.932121\n",
            "1   1.000000e-05  0.999958      0.967568      0.999979  0.968056\n",
            "2   1.000000e-07  0.999982      0.986150      0.999991  0.986175\n",
            "3   1.000000e-08  0.999986      0.988827      0.999993  0.988820\n",
            "4   1.000000e-09  0.999993      0.994382      0.999996  0.994394\n",
            "5   1.000000e-10  0.999993      0.994382      0.999996  0.994394\n",
            "6   1.000000e-11  0.999993      0.994382      0.999996  0.994394\n",
            "7   1.000000e-12  0.999993      0.994382      0.999996  0.994394\n",
            "8   1.000000e-13  0.999989      0.991549      0.999995  0.991579\n",
            "9   1.000000e-04  0.999905      0.929870      0.999953  0.932121\n",
            "10  1.000000e-04  0.999905      0.929870      0.999953  0.932121\n",
            "11  1.000000e-05  0.999958      0.967568      0.999979  0.968056\n",
            "12  1.000000e-07  0.999982      0.986150      0.999991  0.986175\n",
            "13  1.000000e-08  0.999986      0.988827      0.999993  0.988820\n",
            "14  1.000000e-09  0.999993      0.994382      0.999996  0.994394\n",
            "15  1.000000e-10  0.999993      0.994382      0.999996  0.994394\n",
            "16  1.000000e-11  0.999993      0.994382      0.999996  0.994394\n",
            "17  1.000000e-12  0.999993      0.994382      0.999996  0.994394\n",
            "18  1.000000e-13  0.999989      0.991549      0.999995  0.991579\n",
            "19  1.000000e-02  0.996569      0.267564      0.998280  0.392318\n",
            "20  1.000000e-03  0.999664      0.788546      0.999832  0.806654\n",
            "21  1.000000e-04  0.999905      0.929870      0.999953  0.932121\n",
            "22  1.000000e-05  0.999958      0.967568      0.999979  0.968056\n",
            "23  1.000000e-07  0.999982      0.986150      0.999991  0.986175\n",
            "24  1.000000e-08  0.999986      0.988827      0.999993  0.988820\n",
            "25  1.000000e-09  0.999993      0.994382      0.999996  0.994394\n",
            "26  1.000000e-10  0.999993      0.994382      0.999996  0.994394\n",
            "27  1.000000e-11  0.999993      0.994382      0.999996  0.994394\n",
            "28  1.000000e-12  0.999993      0.994382      0.999996  0.994394\n",
            "29  1.000000e-13  0.999989      0.991549      0.999995  0.991579\n",
            "30  1.000000e-01  0.961530      0.031553      0.980375  0.124146\n",
            "31  1.000000e-02  0.996569      0.267564      0.998280  0.392318\n",
            "32  1.000000e-03  0.999664      0.788546      0.999832  0.806654\n",
            "33  1.000000e-04  0.999905      0.929870      0.999953  0.932121\n",
            "34  1.000000e-05  0.999958      0.967568      0.999979  0.968056\n",
            "35  1.000000e-07  0.999982      0.986150      0.999991  0.986175\n",
            "36  1.000000e-08  0.999986      0.988827      0.999993  0.988820\n",
            "37  1.000000e-09  0.999993      0.994382      0.999996  0.994394\n",
            "38  1.000000e-10  0.999993      0.994382      0.999996  0.994394\n",
            "39  1.000000e-11  0.999993      0.994382      0.999996  0.994394\n",
            "40  1.000000e-12  0.999993      0.994382      0.999996  0.994394\n",
            "41  1.000000e-13  0.999989      0.991549      0.999995  0.991579\n",
            "42  1.000000e-14  0.999979      0.982955      0.999989  0.983087\n",
            "43  1.000000e-15  0.999979      0.982955      0.999989  0.983087\n",
            "44  1.000000e-16  0.999972      0.977143      0.999986  0.977385\n"
          ]
        }
      ]
    },
    {
      "cell_type": "code",
      "source": [
        "print(len(seqopt_FPR_list))\n",
        "print_ROC_curve(seqopt_FPR_list, seqopt_TPR_list)"
      ],
      "metadata": {
        "colab": {
          "base_uri": "https://localhost:8080/",
          "height": 489
        },
        "id": "9zskpONG-asL",
        "outputId": "42331576-2822-41e6-eec6-90b9a25c834c"
      },
      "execution_count": 157,
      "outputs": [
        {
          "output_type": "stream",
          "name": "stdout",
          "text": [
            "15\n"
          ]
        },
        {
          "output_type": "display_data",
          "data": {
            "text/plain": [
              "<Figure size 640x480 with 1 Axes>"
            ],
            "image/png": "[encoded data removed]"
          },
          "metadata": {}
        }
      ]
    },
    {
      "cell_type": "markdown",
      "source": [
        "### OTTENIMENTO DELLE **PREDICTION DAL TEST SET** E STUDIO DELLE PERFORMANCE"
      ],
      "metadata": {
        "id": "bnPswoqTxt2C"
      }
    },
    {
      "cell_type": "code",
      "source": [
        "X_test_seq = test_df_seq['E-value'].to_numpy()\n",
        "y_test_seq = test_df_seq['Etichetta'].to_numpy()"
      ],
      "metadata": {
        "id": "ZQjn5crJlDDB"
      },
      "execution_count": 122,
      "outputs": []
    },
    {
      "cell_type": "code",
      "source": [
        "seqT_TPR_list = []\n",
        "seqT_FPR_list = []\n",
        "\n",
        "for th in [0.0001, 0.00001, 0.0000001, 0.00000001, 0.000000001, 0.0000000001, 0.00000000001, 0.000000000001, 0.0000000000001]:\n",
        "  y_pred2_seq = get_preds(X_test_seq,th)\n",
        "  cm = confusion_matrix(y_test_seq,y_pred2_seq)\n",
        "  #print_cm(cm)\n",
        "  report = classification_report(y_test_seq, y_pred2_seq, output_dict=True)\n",
        "  ac, pos_f1, neg_f1, mcc = report['accuracy'], report['1']['f1-score'], report['0']['f1-score'], matthews_corrcoef(y_test_seq, y_pred2_seq)\n",
        "  #print('THRESHOLD=%s\\nAccuracy=%s\\nPositive F1=%s\\nNegative F1=%s\\nMCC=%s\\n'%(th,ac,pos_f1,neg_f1,mcc))\n",
        "  new_res = [th, ac, pos_f1, neg_f1, mcc]\n",
        "  seq_res_test.loc[len(seq_res_test)] = new_res\n",
        "  seqT_TPR_current = TP / (TP + FN)\n",
        "  seqT_FPR_current = FP / (FP + TN)\n",
        "  seqT_TPR_list.append(seqT_TPR_current)\n",
        "  seqT_FPR_list.append(seqT_FPR_current)"
      ],
      "metadata": {
        "id": "mj6BNw0cyB6M"
      },
      "execution_count": 145,
      "outputs": []
    },
    {
      "cell_type": "code",
      "source": [
        "print(seq_res_test)\n",
        "#seq_res_df.to_excel('Risultati.xlsx',index=False)"
      ],
      "metadata": {
        "colab": {
          "base_uri": "https://localhost:8080/"
        },
        "id": "m6vOL4b3c2Ti",
        "outputId": "ff7496cc-0b8f-42b4-9c5e-08ce1930e13f"
      },
      "execution_count": 146,
      "outputs": [
        {
          "output_type": "stream",
          "name": "stdout",
          "text": [
            "       Threshold  Accuracy  Pos_f1_score  Neg_f1_score       MCC\n",
            "0   1.000000e-04  0.999937      0.952128      0.999968  0.953191\n",
            "1   1.000000e-05  0.999986      0.988950      0.999993  0.989004\n",
            "2   1.000000e-07  1.000000      1.000000      1.000000  1.000000\n",
            "3   1.000000e-08  0.999996      0.997199      0.999998  0.997201\n",
            "4   1.000000e-09  0.999989      0.991549      0.999995  0.991579\n",
            "5   1.000000e-10  0.999989      0.991549      0.999995  0.991579\n",
            "6   1.000000e-11  0.999989      0.991549      0.999995  0.991579\n",
            "7   1.000000e-12  0.999989      0.991549      0.999995  0.991579\n",
            "8   1.000000e-13  0.999989      0.991549      0.999995  0.991579\n",
            "9   1.000000e-04  0.999937      0.952128      0.999968  0.953191\n",
            "10  1.000000e-05  0.999986      0.988950      0.999993  0.989004\n",
            "11  1.000000e-07  1.000000      1.000000      1.000000  1.000000\n",
            "12  1.000000e-08  0.999996      0.997199      0.999998  0.997201\n",
            "13  1.000000e-09  0.999989      0.991549      0.999995  0.991579\n",
            "14  1.000000e-10  0.999989      0.991549      0.999995  0.991579\n",
            "15  1.000000e-11  0.999989      0.991549      0.999995  0.991579\n",
            "16  1.000000e-12  0.999989      0.991549      0.999995  0.991579\n",
            "17  1.000000e-13  0.999989      0.991549      0.999995  0.991579\n"
          ]
        }
      ]
    },
    {
      "cell_type": "code",
      "source": [
        "print(len(seqopt_FPR_list))\n",
        "print_ROC_curve(seqopt_FPR_list, seqopt_TPR_list)"
      ],
      "metadata": {
        "colab": {
          "base_uri": "https://localhost:8080/",
          "height": 489
        },
        "id": "gKbFuCcD_zqY",
        "outputId": "9ce0e2f5-34eb-4b18-d73e-2dbdb9812913"
      },
      "execution_count": 149,
      "outputs": [
        {
          "output_type": "stream",
          "name": "stdout",
          "text": [
            "9\n"
          ]
        },
        {
          "output_type": "display_data",
          "data": {
            "text/plain": [
              "<Figure size 640x480 with 1 Axes>"
            ],
            "image/png": "[encoded data removed]"
          },
          "metadata": {}
        }
      ]
    },
    {
      "cell_type": "markdown",
      "source": [
        "# **STRUCTURE ALIGNMENT**"
      ],
      "metadata": {
        "id": "n5svW9cGy73L"
      }
    },
    {
      "cell_type": "markdown",
      "source": [
        "### CARICAMENTO DELL'OPTIMIZATION SET E CREAZIONE DEL DATAFRAME"
      ],
      "metadata": {
        "id": "xS9O42pYzrUk"
      }
    },
    {
      "cell_type": "code",
      "source": [
        "#opt_set_str = files.upload()\n",
        "#scegliere set_1_r1.txt"
      ],
      "metadata": {
        "id": "-NrAdeXxz28i"
      },
      "execution_count": 125,
      "outputs": []
    },
    {
      "cell_type": "code",
      "source": [
        "#for file_name, content in opt_set_str.items():\n",
        "#  opt_df_str = pd.read_csv(file_name, sep='\\t', header=None, names=['ID_proteina', 'E-value', 'Etichetta'])"
      ],
      "metadata": {
        "id": "W2aSlDBgz-Xc"
      },
      "execution_count": 126,
      "outputs": []
    },
    {
      "cell_type": "code",
      "source": [
        "opt_df_str = pd.read_csv('set_1_r1.txt', sep='\\t', header=None, names=['ID_proteina', 'E-value', 'Etichetta'])"
      ],
      "metadata": {
        "id": "sTFTc3hz2PSM"
      },
      "execution_count": 127,
      "outputs": []
    },
    {
      "cell_type": "code",
      "source": [
        "opt_df_str.shape"
      ],
      "metadata": {
        "id": "n0vh5xl2zCIg",
        "colab": {
          "base_uri": "https://localhost:8080/"
        },
        "outputId": "ba8e05a5-babe-4678-fbcc-f51c4e8b38aa"
      },
      "execution_count": 128,
      "outputs": [
        {
          "output_type": "execute_result",
          "data": {
            "text/plain": [
              "(285624, 3)"
            ]
          },
          "metadata": {},
          "execution_count": 128
        }
      ]
    },
    {
      "cell_type": "markdown",
      "source": [
        "### CARICAMENTO DEL TEST SET E CREAZIONE DEL DATAFRAME"
      ],
      "metadata": {
        "id": "y6PIqNNo0LXP"
      }
    },
    {
      "cell_type": "code",
      "source": [
        "#test_set_str = files.upload()\n",
        "#scegliere set_2_r1.txt"
      ],
      "metadata": {
        "id": "D0hX-IsA0XHW"
      },
      "execution_count": null,
      "outputs": []
    },
    {
      "cell_type": "code",
      "source": [
        "#for file_name, content in test_set_str.items():\n",
        "#  test_df_str = pd.read_csv(file_name, sep='\\t', header=None, names=['ID_proteina', 'E-value', 'Etichetta'])"
      ],
      "metadata": {
        "id": "LghLMw0s0ZWR"
      },
      "execution_count": null,
      "outputs": []
    },
    {
      "cell_type": "code",
      "source": [
        "test_df_str = pd.read_csv('set_2_r1.txt', sep='\\t', header=None, names=['ID_proteina', 'E-value', 'Etichetta'])"
      ],
      "metadata": {
        "id": "LPiIoMiU2EWM"
      },
      "execution_count": 130,
      "outputs": []
    },
    {
      "cell_type": "code",
      "source": [
        "test_df_str.shape"
      ],
      "metadata": {
        "id": "mDEfxB1A0bS7",
        "colab": {
          "base_uri": "https://localhost:8080/"
        },
        "outputId": "46d1f227-ffb8-4489-fdba-6a91f8aaa807"
      },
      "execution_count": 131,
      "outputs": [
        {
          "output_type": "execute_result",
          "data": {
            "text/plain": [
              "(285625, 3)"
            ]
          },
          "metadata": {},
          "execution_count": 131
        }
      ]
    },
    {
      "cell_type": "markdown",
      "source": [
        "###CREAZIONE DELLA TABELLA DEI RISULTATI"
      ],
      "metadata": {
        "id": "MzNJ7Jmjgh-C"
      }
    },
    {
      "cell_type": "code",
      "source": [
        "cols = ['Threshold','Accuracy','Pos_f1_score','Neg_f1_score','MCC']\n",
        "str_res_opt = pd.DataFrame(columns=cols)\n",
        "str_res_test = pd.DataFrame(columns=cols)"
      ],
      "metadata": {
        "id": "JPyxDO_pgmlW"
      },
      "execution_count": 132,
      "outputs": []
    },
    {
      "cell_type": "markdown",
      "source": [
        "### OTTENIMENTO DELLE **PREDICTION DALL'OPTIMIZATION SET** E STUDIO DELLE PERFORMANCE"
      ],
      "metadata": {
        "id": "cbJ7Rd7p0rWP"
      }
    },
    {
      "cell_type": "code",
      "source": [
        "X_opt_str = opt_df_str['E-value'].to_numpy()\n",
        "y_opt_str = opt_df_str['Etichetta'].to_numpy()"
      ],
      "metadata": {
        "id": "4XCa4r4m0rWQ"
      },
      "execution_count": 133,
      "outputs": []
    },
    {
      "cell_type": "code",
      "source": [
        "for th in [0.0001, 0.00001, 0.0000001, 0.00000001, 0.000000001, 0.0000000001, 0.00000000001, 0.000000000001, 0.0000000000001]:\n",
        "  y_pred1_str = get_preds(X_opt_str,th)\n",
        "  cm = confusion_matrix(y_opt_str,y_pred1_str)\n",
        "  #print_cm(cm)\n",
        "  report = classification_report(y_opt_str, y_pred1_str, output_dict=True)\n",
        "  ac, pos_f1, neg_f1, mcc = report['accuracy'], report['1']['f1-score'], report['0']['f1-score'], matthews_corrcoef(y_opt_str, y_pred1_str)\n",
        "  #print('THRESHOLD=%s\\nAccuracy=%s\\nPositive F1=%s\\nNegative F1=%s\\nMCC=%s\\n'%(th,ac,pos_f1,neg_f1,mcc))\n",
        "  new_res = [th, ac, pos_f1, neg_f1, mcc]\n",
        "  str_res_opt.loc[len(str_res_opt)] = new_res\n"
      ],
      "metadata": {
        "id": "INH2u6bG0rWQ"
      },
      "execution_count": 134,
      "outputs": []
    },
    {
      "cell_type": "code",
      "source": [
        "print(str_res_opt)"
      ],
      "metadata": {
        "colab": {
          "base_uri": "https://localhost:8080/"
        },
        "id": "R-_S8Sx6g_Z2",
        "outputId": "7b430ad3-cb35-43e3-d5de-e4f7e15ee94d"
      },
      "execution_count": 135,
      "outputs": [
        {
          "output_type": "stream",
          "name": "stdout",
          "text": [
            "      Threshold  Accuracy  Pos_f1_score  Neg_f1_score       MCC\n",
            "0  1.000000e-04  0.999912      0.934726      0.999956  0.936683\n",
            "1  1.000000e-05  0.999975      0.980822      0.999988  0.980990\n",
            "2  1.000000e-07  0.999989      0.991643      0.999995  0.991642\n",
            "3  1.000000e-08  0.999993      0.994382      0.999996  0.994394\n",
            "4  1.000000e-09  0.999993      0.994382      0.999996  0.994394\n",
            "5  1.000000e-10  0.999993      0.994382      0.999996  0.994394\n",
            "6  1.000000e-11  0.999993      0.994382      0.999996  0.994394\n",
            "7  1.000000e-12  0.999993      0.994382      0.999996  0.994394\n",
            "8  1.000000e-13  0.999989      0.991549      0.999995  0.991579\n"
          ]
        }
      ]
    },
    {
      "cell_type": "markdown",
      "source": [
        "### OTTENIMENTO DELLE **PREDICTION DAL TEST SET** E STUDIO DELLE PERFORMANCE"
      ],
      "metadata": {
        "id": "9TVTo-2300AK"
      }
    },
    {
      "cell_type": "code",
      "source": [
        "X_test_str = test_df_str['E-value'].to_numpy()\n",
        "y_test_str = test_df_str['Etichetta'].to_numpy()"
      ],
      "metadata": {
        "id": "RzRvWA5J00AM"
      },
      "execution_count": 136,
      "outputs": []
    },
    {
      "cell_type": "code",
      "source": [
        "for th in [0.0001, 0.00001, 0.0000001, 0.00000001, 0.000000001, 0.0000000001, 0.00000000001, 0.000000000001, 0.0000000000001]:\n",
        "  y_pred2_str = get_preds(X_test_str,th)\n",
        "  cm = confusion_matrix(y_test_str,y_pred2_str)\n",
        "  #print_cm(cm)\n",
        "  report = classification_report(y_test_str, y_pred2_str, output_dict=True)\n",
        "  ac, pos_f1, neg_f1, mcc = report['accuracy'], report['1']['f1-score'], report['0']['f1-score'], matthews_corrcoef(y_test_str, y_pred2_str)\n",
        "  #print('THRESHOLD=%s\\nAccuracy=%s\\nPositive F1=%s\\nNegative F1=%s\\nMCC=%s\\n'%(th,ac,pos_f1,neg_f1,mcc))\n",
        "  new_res = [th, ac, pos_f1, neg_f1, mcc]\n",
        "  str_res_test.loc[len(str_res_test)] = new_res"
      ],
      "metadata": {
        "id": "Azuhm-os00AM"
      },
      "execution_count": 137,
      "outputs": []
    },
    {
      "cell_type": "code",
      "source": [
        "print(str_res_test)"
      ],
      "metadata": {
        "colab": {
          "base_uri": "https://localhost:8080/"
        },
        "outputId": "af7d3fb6-bebc-40d4-9982-ea1500596969",
        "id": "Sb93oXtUitKJ"
      },
      "execution_count": 138,
      "outputs": [
        {
          "output_type": "stream",
          "name": "stdout",
          "text": [
            "      Threshold  Accuracy  Pos_f1_score  Neg_f1_score       MCC\n",
            "0  1.000000e-04  0.999944      0.957219      0.999972  0.958070\n",
            "1  1.000000e-05  0.999989      0.991690      0.999995  0.991719\n",
            "2  1.000000e-07  1.000000      1.000000      1.000000  1.000000\n",
            "3  1.000000e-08  0.999996      0.997199      0.999998  0.997201\n",
            "4  1.000000e-09  0.999996      0.997199      0.999998  0.997201\n",
            "5  1.000000e-10  0.999993      0.994382      0.999996  0.994394\n",
            "6  1.000000e-11  0.999989      0.991549      0.999995  0.991579\n",
            "7  1.000000e-12  0.999989      0.991549      0.999995  0.991579\n",
            "8  1.000000e-13  0.999986      0.988701      0.999993  0.988757\n"
          ]
        }
      ]
    },
    {
      "cell_type": "markdown",
      "source": [
        "# **REINDIRIZZAMENTO DEI RISULTATI**"
      ],
      "metadata": {
        "id": "DWAlNvvx72WA"
      }
    },
    {
      "cell_type": "code",
      "source": [
        "with pd.ExcelWriter('Results.xlsx') as writer:\n",
        "    # Salvare ogni DataFrame in un foglio Excel separato\n",
        "    seq_res_opt.to_excel(writer, sheet_name='Sequence alignment optimization set results', index=False)\n",
        "    seq_res_test.to_excel(writer, sheet_name='Sequence alignment test set results', index=False)\n",
        "    str_res_opt.to_excel(writer, sheet_name='Structure alignment optimization set results', index=False)\n",
        "    str_res_test.to_excel(writer, sheet_name='Structure alignment test set result', index=False)"
      ],
      "metadata": {
        "colab": {
          "base_uri": "https://localhost:8080/"
        },
        "id": "yDOrU2bd28zK",
        "outputId": "90729aaf-f6da-46a2-e7f7-de8005b0e91d"
      },
      "execution_count": 139,
      "outputs": [
        {
          "output_type": "stream",
          "name": "stderr",
          "text": [
            "/usr/local/lib/python3.10/dist-packages/openpyxl/workbook/child.py:99: UserWarning: Title is more than 31 characters. Some applications may not be able to read the file\n",
            "  warnings.warn(\"Title is more than 31 characters. Some applications may not be able to read the file\")\n"
          ]
        }
      ]
    },
    {
      "cell_type": "code",
      "source": [],
      "metadata": {
        "id": "paxEePuj6eRH"
      },
      "execution_count": null,
      "outputs": []
    }
  ]
}